{
 "cells": [
  {
   "cell_type": "markdown",
   "id": "e610f424",
   "metadata": {},
   "source": [
    "## 小代码演示草稿"
   ]
  },
  {
   "cell_type": "code",
   "execution_count": 1,
   "id": "9d05ea02",
   "metadata": {},
   "outputs": [
    {
     "name": "stdout",
     "output_type": "stream",
     "text": [
      "   start_atom  end_atom      nx_graph\n",
      "0           0         1  (0, 1, 2, 3)\n",
      "1           1         2  (0, 1, 2, 3)\n",
      "2           2         3  (0, 1, 2, 3)\n"
     ]
    }
   ],
   "source": [
    "import pandas as pd\n",
    "import networkx as nx\n",
    "\n",
    "# 模拟一张小表\n",
    "bde_df = pd.DataFrame({'start_atom':[0,1,2], 'end_atom':[1,2,3]})\n",
    "# 模拟一张图\n",
    "G = nx.path_graph(4)\n",
    "\n",
    "# 回填\n",
    "bde_df['nx_graph'] = [G] * len(bde_df)\n",
    "print(bde_df)\n"
   ]
  },
  {
   "cell_type": "code",
   "execution_count": 2,
   "id": "81c649b6",
   "metadata": {},
   "outputs": [
    {
     "data": {
      "text/plain": [
       "True"
      ]
     },
     "execution_count": 2,
     "metadata": {},
     "output_type": "execute_result"
    }
   ],
   "source": [
    "bde_df['nx_graph'][0] is bde_df['nx_graph'][1]\n",
    "# True\n"
   ]
  }
 ],
 "metadata": {
  "kernelspec": {
   "display_name": "gnn_env",
   "language": "python",
   "name": "python3"
  },
  "language_info": {
   "codemirror_mode": {
    "name": "ipython",
    "version": 3
   },
   "file_extension": ".py",
   "mimetype": "text/x-python",
   "name": "python",
   "nbconvert_exporter": "python",
   "pygments_lexer": "ipython3",
   "version": "3.9.22"
  }
 },
 "nbformat": 4,
 "nbformat_minor": 5
}
