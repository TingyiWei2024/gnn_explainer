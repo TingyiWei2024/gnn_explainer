{
 "cells": [
  {
   "cell_type": "code",
   "execution_count": null,
   "id": "7fb9d155",
   "metadata": {},
   "outputs": [],
   "source": [
    "# nbo_features.md\n",
    "txt_path = \"NBO/C24_results/C24-7-1-1.txt\"\n",
    "node_template_path = \"node_features.xlsx\"\n"
   ]
  },
  {
   "cell_type": "code",
   "execution_count": null,
   "id": "ce9b388d",
   "metadata": {},
   "outputs": [],
   "source": [
    "# node features\n",
    "import nbo_nodes_parser"
   ]
  },
  {
   "cell_type": "code",
   "execution_count": null,
   "id": "9ae3ba86",
   "metadata": {},
   "outputs": [
    {
     "name": "stdout",
     "output_type": "stream",
     "text": [
      "✅ Node features merged into: node_features.xlsx\n"
     ]
    }
   ],
   "source": [
    "# input\n",
    "if __name__ == \"__main__\":\n",
    "    mol_id = \"C24\"\n",
    "    node_xlsx = \"node_features.xlsx\"\n",
    "    # Optional: if creating from scratch and you want to carry README from template:\n",
    "    readme_template = \"node_features_template.xlsx\"\n",
    "\n",
    "    # 1) q_npa\n",
    "    df_npa = parse_npa_charges(\"C24-ChargeFlog.txt\", mol_id)\n",
    "    merge_into_node_excel(node_xlsx, df_npa, [\"q_npa\"], readme_source_xlsx=readme_template)\n",
    "\n",
    "    # 2) val_mayer_tot\n",
    "    df_mayer = parse_mayer_total_valence(\"C24-9-1-n.txt\", mol_id)\n",
    "    merge_into_node_excel(node_xlsx, df_mayer, [\"val_mayer_tot\"])\n",
    "\n",
    "    # 3) pop_mull & q_mull\n",
    "    df_mull = parse_mulliken_pop_and_charge(\"C24-7-5-4.txt\", mol_id)\n",
    "    merge_into_node_excel(node_xlsx, df_mull, [\"pop_mull\", \"q_mull\"])\n",
    "\n",
    "    # 4) q_adch\n",
    "    df_adch = parse_adch(\"C24-7-11-1.txt\", mol_id)\n",
    "    merge_into_node_excel(node_xlsx, df_adch, [\"q_adch\"])\n",
    "\n",
    "    # 5) q_chelpg\n",
    "    df_chelpg = parse_chelpg(\"C24_7_12.txt\", mol_id)\n",
    "    merge_into_node_excel(node_xlsx, df_chelpg, [\"q_chelpg\"])\n",
    "\n",
    "    # 6) q_hirsh\n",
    "    df_hirsh = parse_hirshfeld_7_1_1(\"C24-7-1-1.txt\", mol_id)\n",
    "    merge_into_node_excel(node_xlsx, df_hirsh, [\"q_hirsh\"])\n",
    "\n",
    "    print(f\"✅ Node features merged into: {node_xlsx}\")\n"
   ]
  },
  {
   "cell_type": "code",
   "execution_count": 7,
   "id": "da2b6118",
   "metadata": {},
   "outputs": [],
   "source": [
    "import nbo_edges_parser"
   ]
  },
  {
   "cell_type": "code",
   "execution_count": 8,
   "id": "9fae91a9",
   "metadata": {},
   "outputs": [
    {
     "name": "stdout",
     "output_type": "stream",
     "text": [
      "✅ Edge features merged into: edge_features_C24.xlsx\n"
     ]
    }
   ],
   "source": [
    "# edge input\n",
    "if __name__ == \"__main__\":\n",
    "    mol_id = \"C24\"\n",
    "    edge_xlsx = \"edge_features_C24.xlsx\"\n",
    "    readme_template = \"edge_features_template.xlsx\"\n",
    "\n",
    "    # 1) Mayer bond order (absolute)\n",
    "    df_mayer = parse_mayer_bond_order(\"C24-9-1-e.txt\", mol_id)\n",
    "    merge_into_edge_excel(edge_xlsx, df_mayer, [\"bo_mayer_abs\"], readme_source_xlsx=readme_template)\n",
    "\n",
    "    # 2) Wiberg bond order\n",
    "    df_wiberg = parse_wiberg_bond_order(\"C24-9-3.txt\", mol_id)\n",
    "    merge_into_edge_excel(edge_xlsx, df_wiberg, [\"bo_wiberg\"])\n",
    "\n",
    "    # 3) Mulliken bond order\n",
    "    df_mull = parse_mulliken_bond_order(\"C24-9-4.txt\", mol_id)\n",
    "    merge_into_edge_excel(edge_xlsx, df_mull, [\"bo_mull\"])\n",
    "\n",
    "    print(f\"✅ Edge features merged into: {edge_xlsx}\")"
   ]
  },
  {
   "cell_type": "code",
   "execution_count": null,
   "id": "473e2fc7",
   "metadata": {},
   "outputs": [],
   "source": []
  }
 ],
 "metadata": {
  "kernelspec": {
   "display_name": "gnn_env",
   "language": "python",
   "name": "python3"
  },
  "language_info": {
   "codemirror_mode": {
    "name": "ipython",
    "version": 3
   },
   "file_extension": ".py",
   "mimetype": "text/x-python",
   "name": "python",
   "nbconvert_exporter": "python",
   "pygments_lexer": "ipython3",
   "version": "3.9.22"
  }
 },
 "nbformat": 4,
 "nbformat_minor": 5
}
