{
 "cells": [
  {
   "cell_type": "code",
   "execution_count": null,
   "id": "cccd41e2",
   "metadata": {},
   "outputs": [],
   "source": [
    "# c24\n",
    "\n",
    "from rdkit import Chem\n",
    "from rdkit.Chem import AllChem\n",
    "\n",
    "# 1. 输入 SMILES\n",
    "smiles = \"C1CC([C@H]3[C@@](C1)(C)[C@H]2CC[C@H](C)[C@H]([C@@]2(CC3)C)CCC(C)C)(C)C\"\n",
    "\n",
    "# 构建分子并加氢\n",
    "mol = Chem.MolFromSmiles(smiles)\n",
    "mol = Chem.AddHs(mol)\n",
    "\n",
    "# 生成构象并优化\n",
    "AllChem.EmbedMolecule(mol, randomSeed=42)\n",
    "AllChem.MMFFOptimizeMolecule(mol)\n",
    "\n",
    "conf = mol.GetConformer()\n",
    "\n",
    "# === 写 GJF 文件 ===\n",
    "gjf_lines = []\n",
    "\n",
    "# Gaussian 路径前言\n",
    "gjf_lines.append(\"%nproc=32\")\n",
    "gjf_lines.append(\"%mem=32GB\")\n",
    "gjf_lines.append(\"%Chk=C24-opt.chk\")\n",
    "gjf_lines.append(\"#p B3LYP/6-31G(d) Opt\\n\")\n",
    "gjf_lines.append(\"Optimization of molecular geometry\\n\")\n",
    "gjf_lines.append(\"0 1\")\n",
    "\n",
    "# 分子坐标\n",
    "for atom in mol.GetAtoms():\n",
    "    pos = conf.GetAtomPosition(atom.GetIdx())\n",
    "    gjf_lines.append(f\"{atom.GetSymbol():2s}  {pos.x:12.6f}  {pos.y:12.6f}  {pos.z:12.6f}\")\n",
    "\n",
    "# Link1 NBO 计算部分\n",
    "gjf_lines.append(\"\\n--Link1--\")\n",
    "gjf_lines.append(\"%OldChk=C24-opt.chk\")\n",
    "gjf_lines.append(\"%Chk=C24-nbo.chk\")\n",
    "gjf_lines.append(\"#n B3LYP/6-311+G(2d,p) POP=NBO Geom=Checkpoint\\n\")\n",
    "gjf_lines.append(\"Calculations of NBO charges\\n\")\n",
    "gjf_lines.append(\"0 1\")\n",
    "\n",
    "# 保存为 molecule.gjf\n",
    "with open(\"C24.gjf\", \"w\") as f:\n",
    "    f.write(\"\\n\".join(gjf_lines))\n",
    "\n",
    "print(\"[INFO] Gaussian 输入文件已生成：C24.gjf\")\n"
   ]
  }
 ],
 "metadata": {
  "language_info": {
   "name": "python"
  }
 },
 "nbformat": 4,
 "nbformat_minor": 5
}
