{
 "cells": [
  {
   "cell_type": "code",
   "execution_count": null,
   "id": "ea47f11e",
   "metadata": {},
   "outputs": [],
   "source": [
    "# 1. Data Intake"
   ]
  }
 ],
 "metadata": {
  "language_info": {
   "name": "python"
  }
 },
 "nbformat": 4,
 "nbformat_minor": 5
}
