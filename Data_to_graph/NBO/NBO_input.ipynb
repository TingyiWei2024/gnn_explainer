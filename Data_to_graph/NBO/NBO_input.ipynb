{
 "cells": [
  {
   "cell_type": "code",
   "execution_count": 1,
   "id": "46084f9f",
   "metadata": {},
   "outputs": [],
   "source": [
    "import re\n",
    "import math\n",
    "from pathlib import Path\n",
    "from typing import Dict, List, Tuple\n",
    "import pandas as pd\n",
    "import numpy as np"
   ]
  },
  {
   "cell_type": "code",
   "execution_count": null,
   "id": "190f0353",
   "metadata": {},
   "outputs": [],
   "source": [
    "def _last_block(pattern: str, text: str) -> str:\n",
    "\"\"\"返回最后一次匹配的区块字符串。pattern 应尽量包含起止锚点。\"\"\"\n",
    "matches = list(re.finditer(pattern, text, flags=re.S))\n",
    "return matches[-1].group(0) if matches else \"\"\n",
    "\n",
    "\n",
    "# --- NPA charges ---\n",
    "NPA_HDR = r\"Summary of Natural Population Analysis:(.*?)\\n\\s*Sum of atomic charges\" # 截止到总和\n",
    "NPA_LINE = re.compile(r\"^\\s*(\\d+)\\s+([A-Za-z]{1,2})\\s+([-+]?\\d+\\.\\d+)\", re.M)\n",
    "\n",
    "\n",
    "# --- Standard orientation table ---\n",
    "STD_ORI = r\"Standard orientation:(.*?)\\n\\s*-+\\n\\s*Center\\s+Atomic\\s+Atomic\\s+X\\s+Y\\s+Z(.*?)\\n\\s*-+\" # 捕获表体\n",
    "STD_LINE = re.compile(r\"^\\s*(\\d+)\\s+(\\d+)\\s+\\d+\\s+([-+]?\\d+\\.\\d+)\\s+([-+]?\\d+\\.\\d+)\\s+([-+]?\\d+\\.\\d+)\", re.M)\n",
    "\n",
    "\n",
    "# --- Wiberg bond index ---\n",
    "WBI_HDR = r\"Wiberg bond index(.*?)\\n\\s*\\-\\s*\\n\" # 视版本改进\n",
    "WBI_LINE = re.compile(r\"^\\s*(\\d+)\\s+(\\d+)\\s+([-+]?\\d+\\.\\d+)\", re.M) # 若打印为三列列表\n",
    "\n",
    "\n",
    "# 注：不同 Gaussian/NBO 版本 WBI 可能为矩阵或三列列表；必要时新增矩阵解析器"
   ]
  }
 ],
 "metadata": {
  "kernelspec": {
   "display_name": "gnn_env",
   "language": "python",
   "name": "python3"
  },
  "language_info": {
   "codemirror_mode": {
    "name": "ipython",
    "version": 3
   },
   "file_extension": ".py",
   "mimetype": "text/x-python",
   "name": "python",
   "nbconvert_exporter": "python",
   "pygments_lexer": "ipython3",
   "version": "3.9.22"
  }
 },
 "nbformat": 4,
 "nbformat_minor": 5
}
