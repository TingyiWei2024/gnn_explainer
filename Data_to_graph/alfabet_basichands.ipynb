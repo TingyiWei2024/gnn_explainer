{
 "cells": [
  {
   "cell_type": "code",
   "execution_count": 1,
   "id": "4b5024a3",
   "metadata": {},
   "outputs": [],
   "source": [
    "import alfabet"
   ]
  },
  {
   "cell_type": "code",
   "execution_count": 9,
   "id": "22db77dd",
   "metadata": {},
   "outputs": [
    {
     "name": "stdout",
     "output_type": "stream",
     "text": [
      "CCCC[C@@H]1[C@@H](C)CC[C@H]2[C@@]1(C)CC[C@H]1C(C)(C)CCC[C@]21C\n"
     ]
    }
   ],
   "source": [
    "from alfabet.fragment import canonicalize_smiles\n",
    "\n",
    "s_raw = 'C1CC([C@H]3[C@@](C1)(C)[C@H]2CC[C@H](C)[C@H]([C@@]2(CC3)C)CCCC)(C)C'\n",
    "s_can = canonicalize_smiles(s_raw)\n",
    "print(s_can)"
   ]
  },
  {
   "cell_type": "code",
   "execution_count": null,
   "id": "6d72fe54",
   "metadata": {},
   "outputs": [],
   "source": [
    "from alfabet.prediction import check_input\n",
    "is_outlier, missing_atom, missing_bond = check_input(s_can)\n",
    "print(\"outlier?\", is_outlier, \"missing_atom?\", missing_atom, \"missing_bond?\", missing_bond)\n",
    "# 这里不是报错，只是告诉你：这个分子是否在 alfabet 的“舒适区”\n"
   ]
  },
  {
   "cell_type": "code",
   "execution_count": null,
   "id": "52ee74ad",
   "metadata": {},
   "outputs": [],
   "source": [
    "from alfabet.prediction import predict_bdes\n",
    "df = predict_bdes(s_can, draw=False)\n",
    "print(df.columns.tolist())\n",
    "df.head(3) # 你应该能看到 start_atom / end_atom / bde_pred 等列\n"
   ]
  },
  {
   "cell_type": "code",
   "execution_count": null,
   "id": "903021d8",
   "metadata": {},
   "outputs": [],
   "source": [
    "# 预测前先不加H\n",
    "from rdkit import Chem\n",
    "mol = Chem.MolFromSmiles(s_can)      # 注意：没有 AddHs()\n",
    "N = mol.GetNumAtoms()\n",
    "# 断言：alfabet 的索引应该都在 [0, N-1]\n",
    "assert df['start_atom'].between(0, N-1).all()\n",
    "assert df['end_atom'].between(0, N-1).all()\n",
    "print(\"Index alignment ✓  (alfabet indices match RDKit non-H atoms)\")\n"
   ]
  },
  {
   "cell_type": "code",
   "execution_count": null,
   "id": "3def6744",
   "metadata": {},
   "outputs": [],
   "source": [
    "required = {'start_atom','end_atom','bde_pred'}\n",
    "assert required.issubset(df.columns), f\"missing columns: {required - set(df.columns)}\"\n",
    "print(\"Columns ✓  (alfabet outputs satisfy the contract)\")\n"
   ]
  },
  {
   "cell_type": "code",
   "execution_count": null,
   "id": "1cd5fd11",
   "metadata": {},
   "outputs": [],
   "source": [
    "# 加H验证实验\n",
    "from rdkit import Chem\n",
    "from alfabet.fragment import canonicalize_smiles\n",
    "from alfabet.prediction import predict_bdes\n",
    "\n",
    "s = canonicalize_smiles(\"CH4\")\n",
    "mol_noH = Chem.MolFromSmiles(s)\n",
    "mol_H = Chem.AddHs(mol_noH)\n",
    "\n",
    "print(\"不加氢:\", mol_noH.GetNumAtoms())  # 1\n",
    "print(\"加氢:\", mol_H.GetNumAtoms())      # 5\n",
    "\n",
    "bde_df = predict_bdes(s)\n",
    "print(bde_df[['start_atom','end_atom','bde_pred']].head())\n",
    "# 你会看到 alfabet 报出的 end_atom 有时超出 0..N-1 或是 -1，\n",
    "# 这些就是“氢键”的信号\n"
   ]
  }
 ],
 "metadata": {
  "kernelspec": {
   "display_name": "gnn_env",
   "language": "python",
   "name": "python3"
  },
  "language_info": {
   "codemirror_mode": {
    "name": "ipython",
    "version": 3
   },
   "file_extension": ".py",
   "mimetype": "text/x-python",
   "name": "python",
   "nbconvert_exporter": "python",
   "pygments_lexer": "ipython3",
   "version": "3.9.22"
  }
 },
 "nbformat": 4,
 "nbformat_minor": 5
}
