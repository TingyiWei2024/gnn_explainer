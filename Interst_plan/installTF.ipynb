{
 "cells": [
  {
   "cell_type": "code",
   "execution_count": 1,
   "id": "68c26912",
   "metadata": {},
   "outputs": [
    {
     "name": "stderr",
     "output_type": "stream",
     "text": [
      "/Users/tingyiwei/miniforge3/envs/gnn_env/lib/python3.9/site-packages/google/protobuf/runtime_version.py:98: UserWarning: Protobuf gencode version 5.28.3 is exactly one major version older than the runtime version 6.31.1 at tensorflow/core/framework/attr_value.proto. Please update the gencode to avoid compatibility violations in the next runtime release.\n",
      "  warnings.warn(\n",
      "/Users/tingyiwei/miniforge3/envs/gnn_env/lib/python3.9/site-packages/google/protobuf/runtime_version.py:98: UserWarning: Protobuf gencode version 5.28.3 is exactly one major version older than the runtime version 6.31.1 at tensorflow/core/framework/tensor.proto. Please update the gencode to avoid compatibility violations in the next runtime release.\n",
      "  warnings.warn(\n",
      "/Users/tingyiwei/miniforge3/envs/gnn_env/lib/python3.9/site-packages/google/protobuf/runtime_version.py:98: UserWarning: Protobuf gencode version 5.28.3 is exactly one major version older than the runtime version 6.31.1 at tensorflow/core/framework/resource_handle.proto. Please update the gencode to avoid compatibility violations in the next runtime release.\n",
      "  warnings.warn(\n",
      "/Users/tingyiwei/miniforge3/envs/gnn_env/lib/python3.9/site-packages/google/protobuf/runtime_version.py:98: UserWarning: Protobuf gencode version 5.28.3 is exactly one major version older than the runtime version 6.31.1 at tensorflow/core/framework/tensor_shape.proto. Please update the gencode to avoid compatibility violations in the next runtime release.\n",
      "  warnings.warn(\n",
      "/Users/tingyiwei/miniforge3/envs/gnn_env/lib/python3.9/site-packages/google/protobuf/runtime_version.py:98: UserWarning: Protobuf gencode version 5.28.3 is exactly one major version older than the runtime version 6.31.1 at tensorflow/core/framework/types.proto. Please update the gencode to avoid compatibility violations in the next runtime release.\n",
      "  warnings.warn(\n",
      "/Users/tingyiwei/miniforge3/envs/gnn_env/lib/python3.9/site-packages/google/protobuf/runtime_version.py:98: UserWarning: Protobuf gencode version 5.28.3 is exactly one major version older than the runtime version 6.31.1 at tensorflow/core/framework/full_type.proto. Please update the gencode to avoid compatibility violations in the next runtime release.\n",
      "  warnings.warn(\n",
      "/Users/tingyiwei/miniforge3/envs/gnn_env/lib/python3.9/site-packages/google/protobuf/runtime_version.py:98: UserWarning: Protobuf gencode version 5.28.3 is exactly one major version older than the runtime version 6.31.1 at tensorflow/core/framework/function.proto. Please update the gencode to avoid compatibility violations in the next runtime release.\n",
      "  warnings.warn(\n",
      "/Users/tingyiwei/miniforge3/envs/gnn_env/lib/python3.9/site-packages/google/protobuf/runtime_version.py:98: UserWarning: Protobuf gencode version 5.28.3 is exactly one major version older than the runtime version 6.31.1 at tensorflow/core/framework/node_def.proto. Please update the gencode to avoid compatibility violations in the next runtime release.\n",
      "  warnings.warn(\n",
      "/Users/tingyiwei/miniforge3/envs/gnn_env/lib/python3.9/site-packages/google/protobuf/runtime_version.py:98: UserWarning: Protobuf gencode version 5.28.3 is exactly one major version older than the runtime version 6.31.1 at tensorflow/core/framework/op_def.proto. Please update the gencode to avoid compatibility violations in the next runtime release.\n",
      "  warnings.warn(\n",
      "/Users/tingyiwei/miniforge3/envs/gnn_env/lib/python3.9/site-packages/google/protobuf/runtime_version.py:98: UserWarning: Protobuf gencode version 5.28.3 is exactly one major version older than the runtime version 6.31.1 at tensorflow/core/framework/graph.proto. Please update the gencode to avoid compatibility violations in the next runtime release.\n",
      "  warnings.warn(\n",
      "/Users/tingyiwei/miniforge3/envs/gnn_env/lib/python3.9/site-packages/google/protobuf/runtime_version.py:98: UserWarning: Protobuf gencode version 5.28.3 is exactly one major version older than the runtime version 6.31.1 at tensorflow/core/framework/graph_debug_info.proto. Please update the gencode to avoid compatibility violations in the next runtime release.\n",
      "  warnings.warn(\n",
      "/Users/tingyiwei/miniforge3/envs/gnn_env/lib/python3.9/site-packages/google/protobuf/runtime_version.py:98: UserWarning: Protobuf gencode version 5.28.3 is exactly one major version older than the runtime version 6.31.1 at tensorflow/core/framework/versions.proto. Please update the gencode to avoid compatibility violations in the next runtime release.\n",
      "  warnings.warn(\n",
      "/Users/tingyiwei/miniforge3/envs/gnn_env/lib/python3.9/site-packages/google/protobuf/runtime_version.py:98: UserWarning: Protobuf gencode version 5.28.3 is exactly one major version older than the runtime version 6.31.1 at tensorflow/core/protobuf/config.proto. Please update the gencode to avoid compatibility violations in the next runtime release.\n",
      "  warnings.warn(\n",
      "/Users/tingyiwei/miniforge3/envs/gnn_env/lib/python3.9/site-packages/google/protobuf/runtime_version.py:98: UserWarning: Protobuf gencode version 5.28.3 is exactly one major version older than the runtime version 6.31.1 at xla/tsl/protobuf/coordination_config.proto. Please update the gencode to avoid compatibility violations in the next runtime release.\n",
      "  warnings.warn(\n",
      "/Users/tingyiwei/miniforge3/envs/gnn_env/lib/python3.9/site-packages/google/protobuf/runtime_version.py:98: UserWarning: Protobuf gencode version 5.28.3 is exactly one major version older than the runtime version 6.31.1 at tensorflow/core/framework/cost_graph.proto. Please update the gencode to avoid compatibility violations in the next runtime release.\n",
      "  warnings.warn(\n",
      "/Users/tingyiwei/miniforge3/envs/gnn_env/lib/python3.9/site-packages/google/protobuf/runtime_version.py:98: UserWarning: Protobuf gencode version 5.28.3 is exactly one major version older than the runtime version 6.31.1 at tensorflow/core/framework/step_stats.proto. Please update the gencode to avoid compatibility violations in the next runtime release.\n",
      "  warnings.warn(\n",
      "/Users/tingyiwei/miniforge3/envs/gnn_env/lib/python3.9/site-packages/google/protobuf/runtime_version.py:98: UserWarning: Protobuf gencode version 5.28.3 is exactly one major version older than the runtime version 6.31.1 at tensorflow/core/framework/allocation_description.proto. Please update the gencode to avoid compatibility violations in the next runtime release.\n",
      "  warnings.warn(\n",
      "/Users/tingyiwei/miniforge3/envs/gnn_env/lib/python3.9/site-packages/google/protobuf/runtime_version.py:98: UserWarning: Protobuf gencode version 5.28.3 is exactly one major version older than the runtime version 6.31.1 at tensorflow/core/framework/tensor_description.proto. Please update the gencode to avoid compatibility violations in the next runtime release.\n",
      "  warnings.warn(\n",
      "/Users/tingyiwei/miniforge3/envs/gnn_env/lib/python3.9/site-packages/google/protobuf/runtime_version.py:98: UserWarning: Protobuf gencode version 5.28.3 is exactly one major version older than the runtime version 6.31.1 at tensorflow/core/protobuf/cluster.proto. Please update the gencode to avoid compatibility violations in the next runtime release.\n",
      "  warnings.warn(\n",
      "/Users/tingyiwei/miniforge3/envs/gnn_env/lib/python3.9/site-packages/google/protobuf/runtime_version.py:98: UserWarning: Protobuf gencode version 5.28.3 is exactly one major version older than the runtime version 6.31.1 at tensorflow/core/protobuf/debug.proto. Please update the gencode to avoid compatibility violations in the next runtime release.\n",
      "  warnings.warn(\n"
     ]
    },
    {
     "ename": "",
     "evalue": "",
     "output_type": "error",
     "traceback": [
      "\u001b[1;31mThe Kernel crashed while executing code in the current cell or a previous cell. \n",
      "\u001b[1;31mPlease review the code in the cell(s) to identify a possible cause of the failure. \n",
      "\u001b[1;31mClick <a href='https://aka.ms/vscodeJupyterKernelCrash'>here</a> for more info. \n",
      "\u001b[1;31mView Jupyter <a href='command:jupyter.viewOutput'>log</a> for further details."
     ]
    }
   ],
   "source": [
    "import tensorflow as tf, pkgutil, sys\n",
    "print(\"PY:\", sys.executable)\n",
    "installed = pkgutil.find_loader(\"tensorflow\") is not None\n",
    "print(\"TF installed? \", installed)\n",
    "if installed:\n",
    "    print(\"TF version:\", tf.__version__)\n",
    "    print(\"GPUs:\", tf.config.list_physical_devices('GPU'))\n"
   ]
  },
  {
   "cell_type": "markdown",
   "id": "3cb10914",
   "metadata": {},
   "source": [
    "## 注释1\n",
    "TensorFlow ↔ protobuf 版本冲突 导致在 导入 TF 时直接崩了（libc++abi ... system_error: mutex lock failed）。\n",
    "前面那串 “gencode 5.28.3 与 runtime 6.31.1 不匹配” 警告已揭示关键：你当前装的 protobuf 是 6.x，而 TF 这套 wheel 用的是 5.x 生成的代码，结果触发底层 C++ 绑定崩溃。"
   ]
  },
  {
   "cell_type": "markdown",
   "id": "e0ff22e7",
   "metadata": {},
   "source": [
    "## 注释2\n",
    "protobuf = Google 的二进制“翻译官”。\n",
    "它帮 TensorFlow、gRPC、NLP 模型等在「Python ↔ C++」或「本地 ↔ 远程」之间高效传递结构化数据。"
   ]
  },
  {
   "cell_type": "code",
   "execution_count": null,
   "id": "f648e6e8",
   "metadata": {},
   "outputs": [],
   "source": [
    "# 卸载冲突的版本\n",
    "python -m pip uninstall -y tensorflow tensorflow-macos tensorflow-metal keras keras-nightly protobuf"
   ]
  },
  {
   "cell_type": "code",
   "execution_count": null,
   "id": "288b9ed5",
   "metadata": {},
   "outputs": [],
   "source": [
    "## 安装不冲突的版本\n",
    "# 建议也把 numpy 钉到 <2，避免个别二进制不兼容\n",
    "python -m pip install \"numpy<2\" \"protobuf==3.20.3\"\n",
    "python -m pip install \"tensorflow-macos==2.15.1\" \"tensorflow-metal==1.1.0\""
   ]
  },
  {
   "cell_type": "code",
   "execution_count": 3,
   "id": "ee590677",
   "metadata": {},
   "outputs": [
    {
     "name": "stdout",
     "output_type": "stream",
     "text": [
      "Collecting numpy<2\n",
      "  Downloading numpy-1.26.4-cp39-cp39-macosx_11_0_arm64.whl.metadata (61 kB)\n",
      "Collecting protobuf==3.20.3\n",
      "  Downloading protobuf-3.20.3-py2.py3-none-any.whl.metadata (720 bytes)\n",
      "Collecting tensorflow-macos==2.15.1\n",
      "  Downloading tensorflow_macos-2.15.1-cp39-cp39-macosx_12_0_arm64.whl.metadata (3.4 kB)\n",
      "Collecting tensorflow-metal==1.1.0\n",
      "  Downloading tensorflow_metal-1.1.0-cp39-cp39-macosx_12_0_arm64.whl.metadata (1.2 kB)\n",
      "Collecting wheel~=0.35 (from tensorflow-metal==1.1.0)\n",
      "  Downloading wheel-0.45.1-py3-none-any.whl.metadata (2.3 kB)\n",
      "Collecting six>=1.15.0 (from tensorflow-metal==1.1.0)\n",
      "  Downloading six-1.17.0-py2.py3-none-any.whl.metadata (1.7 kB)\n",
      "Downloading protobuf-3.20.3-py2.py3-none-any.whl (162 kB)\n",
      "Downloading tensorflow_macos-2.15.1-cp39-cp39-macosx_12_0_arm64.whl (2.2 kB)\n",
      "Downloading tensorflow_metal-1.1.0-cp39-cp39-macosx_12_0_arm64.whl (1.4 MB)\n",
      "\u001b[2K   \u001b[90m━━━━━━━━━━━━━━━━━━━━━━━━━━━━━━━━━━━━━━━━\u001b[0m \u001b[32m1.4/1.4 MB\u001b[0m \u001b[31m2.7 MB/s\u001b[0m eta \u001b[36m0:00:00\u001b[0ma \u001b[36m0:00:01\u001b[0m\n",
      "\u001b[?25hDownloading numpy-1.26.4-cp39-cp39-macosx_11_0_arm64.whl (14.0 MB)\n",
      "\u001b[2K   \u001b[90m━━━━━━━━━━━━━━━━━━━━━━━━━━━━━━━━━━━━━━━━\u001b[0m \u001b[32m14.0/14.0 MB\u001b[0m \u001b[31m3.1 MB/s\u001b[0m eta \u001b[36m0:00:00\u001b[0m00:01\u001b[0m00:01\u001b[0m\n",
      "\u001b[?25hDownloading wheel-0.45.1-py3-none-any.whl (72 kB)\n",
      "Downloading six-1.17.0-py2.py3-none-any.whl (11 kB)\n",
      "Installing collected packages: wheel, six, protobuf, numpy, tensorflow-metal, tensorflow-macos\n",
      "\u001b[2K  Attempting uninstall: wheel\n",
      "\u001b[2K    Found existing installation: wheel 0.45.1\n",
      "\u001b[2K    Uninstalling wheel-0.45.1:\n",
      "\u001b[2K      Successfully uninstalled wheel-0.45.1\n",
      "\u001b[2K  Attempting uninstall: six\n",
      "\u001b[2K    Found existing installation: six 1.17.0\n",
      "\u001b[2K    Uninstalling six-1.17.0:\n",
      "\u001b[2K      Successfully uninstalled six-1.17.0━━━━━━━━━━━━━━━━━━━━━━━━━\u001b[0m \u001b[32m1/6\u001b[0m [six]\n",
      "\u001b[2K  Attempting uninstall: protobuf━━━━━━━━━━━━━━━━━━━━━━━━━━━━━━\u001b[0m \u001b[32m1/6\u001b[0m [six]\n",
      "\u001b[2K    Found existing installation: protobuf 3.20.3━━━━━━━━━━━━━━\u001b[0m \u001b[32m1/6\u001b[0m [six]\n",
      "\u001b[2K    Uninstalling protobuf-3.20.3:━━━━━━━━━━━━━━━━━━━━━━━━━━━━━\u001b[0m \u001b[32m1/6\u001b[0m [six]\n",
      "\u001b[2K      Successfully uninstalled protobuf-3.20.3━━━━━━━━━━━━━━━━━━━━\u001b[0m \u001b[32m2/6\u001b[0m [protobuf]\n",
      "\u001b[2K  Attempting uninstall: numpym╺\u001b[0m\u001b[90m━━━━━━━━━━━━━━━━━━━━━━━━━━\u001b[0m \u001b[32m2/6\u001b[0m [protobuf]\n",
      "\u001b[2K    Found existing installation: numpy 1.26.4━━━━━━━━━━━━━━━━━\u001b[0m \u001b[32m2/6\u001b[0m [protobuf]\n",
      "\u001b[2K    Uninstalling numpy-1.26.4:m\u001b[90m━━━━━━━━━━━━━━━━━━━━━━━━━━\u001b[0m \u001b[32m2/6\u001b[0m [protobuf]\n",
      "\u001b[2K      Successfully uninstalled numpy-1.26.4━━━━━━━━━━━━━━━━━━━\u001b[0m \u001b[32m2/6\u001b[0m [protobuf]\n",
      "\u001b[2K  Attempting uninstall: tensorflow-metal0m\u001b[90m━━━━━━━━━━━━━━━━━━━\u001b[0m \u001b[32m3/6\u001b[0m [numpy]\n",
      "\u001b[2K    Found existing installation: tensorflow-metal 1.1.0━━━━━━━\u001b[0m \u001b[32m3/6\u001b[0m [numpy]\n",
      "\u001b[2K    Uninstalling tensorflow-metal-1.1.0:90m━━━━━━━━━━━━━━━━━━━\u001b[0m \u001b[32m3/6\u001b[0m [numpy]\n",
      "\u001b[2K      Successfully uninstalled tensorflow-metal-1.1.0━━━━━━━━━\u001b[0m \u001b[32m3/6\u001b[0m [numpy]\n",
      "\u001b[2K  Attempting uninstall: tensorflow-macos90m━━━━━━━━━━━━━━━━━━━\u001b[0m \u001b[32m3/6\u001b[0m [numpy]\n",
      "\u001b[2K    Found existing installation: tensorflow-macos 2.15.1━━━━━━\u001b[0m \u001b[32m3/6\u001b[0m [numpy]\n",
      "\u001b[2K    Uninstalling tensorflow-macos-2.15.1:0m━━━━━━━━━━━━━━━━━━━\u001b[0m \u001b[32m3/6\u001b[0m [numpy]\n",
      "\u001b[2K      Successfully uninstalled tensorflow-macos-2.15.1━━━━━━━━\u001b[0m \u001b[32m3/6\u001b[0m [numpy]\n",
      "\u001b[2K   \u001b[90m━━━━━━━━━━━━━━━━━━━━━━━━━━━━━━━━━━━━━━━━\u001b[0m \u001b[32m6/6\u001b[0m [tensorflow-macos]py]\n",
      "\u001b[1A\u001b[2KSuccessfully installed numpy-1.26.4 protobuf-3.20.3 six-1.17.0 tensorflow-macos-2.15.1 tensorflow-metal-1.1.0 wheel-0.45.1\n",
      "Note: you may need to restart the kernel to use updated packages.\n"
     ]
    }
   ],
   "source": [
    "%pip install --no-cache-dir --force-reinstall \"numpy<2\" \"protobuf==3.20.3\" \\\n",
    "  \"tensorflow-macos==2.15.1\" \"tensorflow-metal==1.1.0\"\n"
   ]
  },
  {
   "cell_type": "code",
   "execution_count": 2,
   "id": "ccc810e0",
   "metadata": {},
   "outputs": [
    {
     "name": "stdout",
     "output_type": "stream",
     "text": [
      "PY: /Users/tingyiwei/miniforge3/envs/gnn_env/bin/python\n",
      "TF spec: ModuleSpec(name='tensorflow', loader=<_frozen_importlib_external.SourceFileLoader object at 0x1062a9cd0>, origin='/Users/tingyiwei/miniforge3/envs/gnn_env/lib/python3.9/site-packages/tensorflow/__init__.py', submodule_search_locations=['/Users/tingyiwei/miniforge3/envs/gnn_env/lib/python3.9/site-packages/tensorflow', '/Users/tingyiwei/miniforge3/envs/gnn_env/lib/python3.9/site-packages/tensorflow/_api/v2'])\n",
      "TF: 2.15.1\n",
      "GPUs: [PhysicalDevice(name='/physical_device:GPU:0', device_type='GPU')]\n"
     ]
    }
   ],
   "source": [
    "import sys, importlib.util\n",
    "print(\"PY:\", sys.executable)\n",
    "print(\"TF spec:\", importlib.util.find_spec(\"tensorflow\"))\n",
    "\n",
    "import tensorflow as tf\n",
    "print(\"TF:\", tf.__version__)\n",
    "print(\"GPUs:\", tf.config.list_physical_devices('GPU'))\n"
   ]
  },
  {
   "cell_type": "markdown",
   "id": "5c52006f",
   "metadata": {},
   "source": [
    "# 虽然装了 tensorflow-macos，但真正的顶层包 tensorflow 没被装上，所以 import tensorflow 一直是 ModuleNotFoundError\n",
    "证明：\n",
    "python -m pip show -f tensorflow-macos\n",
    "Files:\n",
    "  tensorflow_macos-2.15.1.dist-info/...\n",
    "  .../top_level.txt\n",
    "只有一个“元包”的 dist-info，没有 tensorflow/__init__.py 等实际模块文件；因此 Python 找不到 tensorflow。\n",
    "\n",
    "## 原因： \n",
    "tensorflow-macos 只是一个 meta 包（壳包），按理会拉取真正的 tensorflow。在某些环境/约束组合下（比如我们先固定了 numpy<2、protobuf==3.20.3 等），依赖解析没把 tensorflow 本体拉下来，就出现了“看似已装、实际没模块”的现象。\n",
    "-> 那还不能先固定版本 好麻烦啊啊啊啊啊"
   ]
  },
  {
   "cell_type": "code",
   "execution_count": null,
   "id": "773b5eb7",
   "metadata": {},
   "outputs": [],
   "source": [
    "conda activate gnn_env\n",
    "\n",
    "# 1) 先卸掉这个“壳包”，避免干扰（可选但建议）\n",
    "python -m pip uninstall -y tensorflow-macos\n",
    "\n",
    "# 2) 直接装真正的本体（2.15.1 与我们当前 numpy/protobuf 组合最稳）\n",
    "python -m pip install --no-cache-dir --force-reinstall \"tensorflow==2.15.1\"\n",
    "\n",
    "# 3) 继续确保 GPU 后端在（如果被卸了就再装回）\n",
    "python -m pip install --no-cache-dir --force-reinstall \"tensorflow-metal==1.1.0\"\n",
    "\n",
    "# 4) 终端里先验证\n",
    "python - << 'PY'\n",
    "import sys, importlib.util\n",
    "print(\"PY:\", sys.executable)\n",
    "print(\"TF spec:\", importlib.util.find_spec(\"tensorflow\"))\n",
    "import tensorflow as tf\n",
    "print(\"TF:\", tf.__version__)\n",
    "print(\"GPUs:\", tf.config.list_physical_devices('GPU'))\n",
    "PY\n"
   ]
  },
  {
   "cell_type": "code",
   "execution_count": 1,
   "id": "399d7180",
   "metadata": {},
   "outputs": [
    {
     "name": "stdout",
     "output_type": "stream",
     "text": [
      "PY: /Users/tingyiwei/miniforge3/envs/gnn_env/bin/python\n",
      "TF: 2.15.1\n",
      "GPUs: [PhysicalDevice(name='/physical_device:GPU:0', device_type='GPU')]\n"
     ]
    },
    {
     "name": "stderr",
     "output_type": "stream",
     "text": [
      "2025-10-14 17:23:15.600815: I metal_plugin/src/device/metal_device.cc:1154] Metal device set to: Apple M4 Pro\n",
      "2025-10-14 17:23:15.600831: I metal_plugin/src/device/metal_device.cc:296] systemMemory: 64.00 GB\n",
      "2025-10-14 17:23:15.600837: I metal_plugin/src/device/metal_device.cc:313] maxCacheSize: 25.92 GB\n",
      "2025-10-14 17:23:15.600871: I tensorflow/core/common_runtime/pluggable_device/pluggable_device_factory.cc:306] Could not identify NUMA node of platform GPU ID 0, defaulting to 0. Your kernel may not have been built with NUMA support.\n",
      "2025-10-14 17:23:15.600892: I tensorflow/core/common_runtime/pluggable_device/pluggable_device_factory.cc:272] Created TensorFlow device (/job:localhost/replica:0/task:0/device:GPU:0 with 0 MB memory) -> physical PluggableDevice (device: 0, name: METAL, pci bus id: <undefined>)\n"
     ]
    },
    {
     "data": {
      "text/plain": [
       "(2048, 2048)"
      ]
     },
     "execution_count": 1,
     "metadata": {},
     "output_type": "execute_result"
    }
   ],
   "source": [
    "## 安装成功！！\n",
    "\n",
    "import tensorflow as tf, sys\n",
    "print(\"PY:\", sys.executable)\n",
    "print(\"TF:\", tf.__version__)\n",
    "print(\"GPUs:\", tf.config.list_physical_devices('GPU'))\n",
    "\n",
    "# 简单触发一次计算\n",
    "x = tf.random.normal((2048, 2048))\n",
    "y = tf.random.normal((2048, 2048))\n",
    "z = tf.matmul(x, y)\n",
    "z.numpy().shape\n"
   ]
  },
  {
   "cell_type": "code",
   "execution_count": 3,
   "id": "b4943135",
   "metadata": {},
   "outputs": [
    {
     "data": {
      "text/plain": [
       "'/Users/tingyiwei/miniforge3/envs/gnn_env/lib/python3.9/site-packages/alfabet_lite/__init__.py'"
      ]
     },
     "execution_count": 3,
     "metadata": {},
     "output_type": "execute_result"
    }
   ],
   "source": [
    "# alfabet验证\n",
    "import alfabet_lite as al\n",
    "al.__file__\n"
   ]
  },
  {
   "cell_type": "code",
   "execution_count": 4,
   "id": "12973f01",
   "metadata": {},
   "outputs": [
    {
     "ename": "ImportError",
     "evalue": "cannot import name 'canonicalize_smiles' from 'alfabet_lite.fragment' (/Users/tingyiwei/miniforge3/envs/gnn_env/lib/python3.9/site-packages/alfabet_lite/fragment.py)",
     "output_type": "error",
     "traceback": [
      "\u001b[0;31m---------------------------------------------------------------------------\u001b[0m",
      "\u001b[0;31mImportError\u001b[0m                               Traceback (most recent call last)",
      "Cell \u001b[0;32mIn[4], line 1\u001b[0m\n\u001b[0;32m----> 1\u001b[0m \u001b[38;5;28;01mfrom\u001b[39;00m\u001b[38;5;250m \u001b[39m\u001b[38;5;21;01malfabet_lite\u001b[39;00m\u001b[38;5;21;01m.\u001b[39;00m\u001b[38;5;21;01mfragment\u001b[39;00m\u001b[38;5;250m \u001b[39m\u001b[38;5;28;01mimport\u001b[39;00m canonicalize_smiles\n\u001b[1;32m      2\u001b[0m s \u001b[38;5;241m=\u001b[39m \u001b[38;5;124m\"\u001b[39m\u001b[38;5;124mCCO\u001b[39m\u001b[38;5;124m\"\u001b[39m   \u001b[38;5;66;03m# 例子：乙醇\u001b[39;00m\n\u001b[1;32m      3\u001b[0m \u001b[38;5;28mprint\u001b[39m(\u001b[38;5;124m\"\u001b[39m\u001b[38;5;124mcanon:\u001b[39m\u001b[38;5;124m\"\u001b[39m, canonicalize_smiles(s))\n",
      "\u001b[0;31mImportError\u001b[0m: cannot import name 'canonicalize_smiles' from 'alfabet_lite.fragment' (/Users/tingyiwei/miniforge3/envs/gnn_env/lib/python3.9/site-packages/alfabet_lite/fragment.py)"
     ]
    }
   ],
   "source": [
    "from alfabet_lite.fragment import canonicalize_smiles\n",
    "s = \"CCO\"   # 例子：乙醇\n",
    "print(\"canon:\", canonicalize_smiles(s))\n"
   ]
  },
  {
   "cell_type": "code",
   "execution_count": 5,
   "id": "6ee06a80",
   "metadata": {},
   "outputs": [
    {
     "name": "stdout",
     "output_type": "stream",
     "text": [
      "['Counter', 'Dict', 'Iterator', 'Molecule', 'RDLogger', 'Type', '__builtins__', '__cached__', '__doc__', '__file__', '__loader__', '__name__', '__package__', '__spec__', 'check_stereocenters', 'count_atom_types', 'count_stereocenters', 'fragment_iterator', 'get_bond_type', 'get_fragments', 'logging', 'pd', 'rdkit']\n"
     ]
    }
   ],
   "source": [
    "# alfabet-lite里有啥\n",
    "import alfabet_lite.fragment as frag\n",
    "print(dir(frag))\n"
   ]
  }
 ],
 "metadata": {
  "kernelspec": {
   "display_name": "gnn_env",
   "language": "python",
   "name": "python3"
  },
  "language_info": {
   "codemirror_mode": {
    "name": "ipython",
    "version": 3
   },
   "file_extension": ".py",
   "mimetype": "text/x-python",
   "name": "python",
   "nbconvert_exporter": "python",
   "pygments_lexer": "ipython3",
   "version": "3.9.22"
  }
 },
 "nbformat": 4,
 "nbformat_minor": 5
}
